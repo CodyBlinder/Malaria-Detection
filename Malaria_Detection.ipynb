{
 "cells": [
  {
   "cell_type": "markdown",
   "metadata": {},
   "source": [
    "# Importing required libraries"
   ]
  },
  {
   "cell_type": "code",
   "execution_count": 33,
   "metadata": {},
   "outputs": [],
   "source": [
    "import pandas as pd\n",
    "from sklearn.model_selection import train_test_split\n",
    "from sklearn import metrics\n",
    "import joblib"
   ]
  },
  {
   "cell_type": "markdown",
   "metadata": {},
   "source": [
    "# Loading and Training the dataset"
   ]
  },
  {
   "cell_type": "code",
   "execution_count": 34,
   "metadata": {},
   "outputs": [
    {
     "name": "stdout",
     "output_type": "stream",
     "text": [
      "         Label  area_0  area_1   area_2  area_3  area_4\n",
      "0  Parasitized   175.5   126.0    131.0  8902.5     0.0\n",
      "1  Parasitized   222.0  9847.5      0.0     0.0     0.0\n",
      "2  Parasitized   179.5   256.5  12413.0     0.0     0.0\n",
      "3  Parasitized    18.0   187.5   9306.5     0.0     0.0\n",
      "4  Parasitized   142.5   156.5   6669.5     0.0     0.0\n"
     ]
    }
   ],
   "source": [
    "##Step1: Load Dataset\n",
    "dataframe = pd.read_csv(\"malaria_dataset.csv\")\n",
    "print(dataframe.head())"
   ]
  },
  {
   "cell_type": "code",
   "execution_count": 35,
   "metadata": {},
   "outputs": [],
   "source": [
    "##Step2: Split into training and test data\n",
    "x = dataframe.drop([\"Label\"],axis=1)\n",
    "y = dataframe[\"Label\"]\n",
    "x_train, x_test, y_train, y_test = train_test_split(x,y,test_size=0.2,random_state=42)"
   ]
  },
  {
   "cell_type": "markdown",
   "metadata": {},
   "source": [
    "# Building models using various classifiers"
   ]
  },
  {
   "cell_type": "code",
   "execution_count": 54,
   "metadata": {},
   "outputs": [
    {
     "data": {
      "text/plain": [
       "DecisionTreeClassifier(ccp_alpha=0.0, class_weight=None, criterion='gini',\n",
       "                       max_depth=None, max_features=None, max_leaf_nodes=None,\n",
       "                       min_impurity_decrease=0.0, min_impurity_split=None,\n",
       "                       min_samples_leaf=1, min_samples_split=2,\n",
       "                       min_weight_fraction_leaf=0.0, presort='deprecated',\n",
       "                       random_state=None, splitter='best')"
      ]
     },
     "execution_count": 54,
     "metadata": {},
     "output_type": "execute_result"
    }
   ],
   "source": [
    "# Implementing Decision Tree Classifier\n",
    "from sklearn.tree import DecisionTreeClassifier\n",
    "decTree_model = DecisionTreeClassifier()\n",
    "\n",
    "# Train Decision Tree Classifer\n",
    "decTree_model.fit(x_train,y_train)"
   ]
  },
  {
   "cell_type": "code",
   "execution_count": 53,
   "metadata": {},
   "outputs": [
    {
     "name": "stdout",
     "output_type": "stream",
     "text": [
      "              precision    recall  f1-score   support\n",
      "\n",
      " Parasitized       0.85      0.85      0.85      2803\n",
      "  Uninfected       0.84      0.84      0.84      2709\n",
      "\n",
      "    accuracy                           0.84      5512\n",
      "   macro avg       0.84      0.84      0.84      5512\n",
      "weighted avg       0.84      0.84      0.84      5512\n",
      "\n",
      "0.8443396226415094\n"
     ]
    }
   ],
   "source": [
    "decTree_predictions = decTree_model.predict(x_test)\n",
    "\n",
    "print(metrics.classification_report(decTree_predictions, y_test))\n",
    "print(decTree_model.score(x_test, y_test))"
   ]
  },
  {
   "cell_type": "code",
   "execution_count": 55,
   "metadata": {},
   "outputs": [
    {
     "data": {
      "text/plain": [
       "SVC(C=1.0, break_ties=False, cache_size=200, class_weight=None, coef0=0.0,\n",
       "    decision_function_shape='ovr', degree=3, gamma='scale', kernel='rbf',\n",
       "    max_iter=-1, probability=False, random_state=None, shrinking=True,\n",
       "    tol=0.001, verbose=False)"
      ]
     },
     "execution_count": 55,
     "metadata": {},
     "output_type": "execute_result"
    }
   ],
   "source": [
    "# Implementing support vector machine classifier\n",
    "from sklearn.svm import SVC\n",
    "svm_model = SVC()\n",
    "\n",
    "# Train the model\n",
    "svm_model.fit(x_train, y_train)"
   ]
  },
  {
   "cell_type": "code",
   "execution_count": 56,
   "metadata": {},
   "outputs": [
    {
     "name": "stdout",
     "output_type": "stream",
     "text": [
      "              precision    recall  f1-score   support\n",
      "\n",
      " Parasitized       0.89      0.90      0.90      2770\n",
      "  Uninfected       0.90      0.89      0.90      2742\n",
      "\n",
      "    accuracy                           0.90      5512\n",
      "   macro avg       0.90      0.90      0.90      5512\n",
      "weighted avg       0.90      0.90      0.90      5512\n",
      "\n",
      "0.8978592162554426\n"
     ]
    }
   ],
   "source": [
    "svm_predictions = svm_model.predict(x_test)\n",
    "\n",
    "print(metrics.classification_report(svm_predictions, y_test))\n",
    "print(svm_model.score(x_test, y_test))"
   ]
  },
  {
   "cell_type": "code",
   "execution_count": 57,
   "metadata": {},
   "outputs": [
    {
     "data": {
      "text/plain": [
       "LogisticRegression(C=1.0, class_weight=None, dual=False, fit_intercept=True,\n",
       "                   intercept_scaling=1, l1_ratio=None, max_iter=100,\n",
       "                   multi_class='auto', n_jobs=None, penalty='l2',\n",
       "                   random_state=None, solver='lbfgs', tol=0.0001, verbose=0,\n",
       "                   warm_start=False)"
      ]
     },
     "execution_count": 57,
     "metadata": {},
     "output_type": "execute_result"
    }
   ],
   "source": [
    "# Implementing Logistic Regression \n",
    "from sklearn.linear_model import LogisticRegression\n",
    "logreg_model = LogisticRegression()\n",
    "\n",
    "# Train the model\n",
    "logreg_model.fit(x_train, y_train)"
   ]
  },
  {
   "cell_type": "code",
   "execution_count": 58,
   "metadata": {},
   "outputs": [
    {
     "name": "stdout",
     "output_type": "stream",
     "text": [
      "              precision    recall  f1-score   support\n",
      "\n",
      " Parasitized       0.90      0.90      0.90      2786\n",
      "  Uninfected       0.90      0.90      0.90      2726\n",
      "\n",
      "    accuracy                           0.90      5512\n",
      "   macro avg       0.90      0.90      0.90      5512\n",
      "weighted avg       0.90      0.90      0.90      5512\n",
      "\n",
      "0.89822206095791\n"
     ]
    }
   ],
   "source": [
    "logreg_predictions = logreg_model.predict(x_test)\n",
    "\n",
    "print(metrics.classification_report(logreg_predictions, y_test))\n",
    "print(logreg_model.score(x_test, y_test))"
   ]
  },
  {
   "cell_type": "code",
   "execution_count": 39,
   "metadata": {},
   "outputs": [
    {
     "data": {
      "text/plain": [
       "AdaBoostClassifier(algorithm='SAMME.R', base_estimator=None, learning_rate=1,\n",
       "                   n_estimators=50, random_state=None)"
      ]
     },
     "execution_count": 39,
     "metadata": {},
     "output_type": "execute_result"
    }
   ],
   "source": [
    "# Implementing Ada Boost Classifier\n",
    "from sklearn.ensemble import AdaBoostClassifier\n",
    "abc_model = AdaBoostClassifier(n_estimators=50,\n",
    "                         learning_rate=1)\n",
    "# Train the model\n",
    "abc_model.fit(x_train, y_train)"
   ]
  },
  {
   "cell_type": "code",
   "execution_count": 40,
   "metadata": {},
   "outputs": [
    {
     "name": "stdout",
     "output_type": "stream",
     "text": [
      "              precision    recall  f1-score   support\n",
      "\n",
      " Parasitized       0.89      0.91      0.90      2743\n",
      "  Uninfected       0.91      0.89      0.90      2769\n",
      "\n",
      "    accuracy                           0.90      5512\n",
      "   macro avg       0.90      0.90      0.90      5512\n",
      "weighted avg       0.90      0.90      0.90      5512\n",
      "\n",
      "0.8994920174165457\n"
     ]
    }
   ],
   "source": [
    "abc_predictions = abc_model.predict(x_test)\n",
    "\n",
    "print(metrics.classification_report(abc_predictions,y_test))\n",
    "print(abc_model.score(x_test, y_test))\n",
    "cnf_matrix = metrics.confusion_matrix(y_test, abc_predictions)"
   ]
  },
  {
   "cell_type": "code",
   "execution_count": 41,
   "metadata": {},
   "outputs": [
    {
     "data": {
      "text/plain": [
       "['rf_malaria_100_5']"
      ]
     },
     "execution_count": 41,
     "metadata": {},
     "output_type": "execute_result"
    }
   ],
   "source": [
    "# Implementing Random Forest Classifier\n",
    "from sklearn.ensemble import RandomForestClassifier\n",
    "rfc_model = RandomForestClassifier(n_estimators=100,max_depth=5)\n",
    "\n",
    "# Train the model\n",
    "rfc_model.fit(x_train, y_train)\n",
    "joblib.dump(model,\"rf_malaria_100_5\")       # to save the model for regular use"
   ]
  },
  {
   "cell_type": "code",
   "execution_count": 43,
   "metadata": {
    "scrolled": false
   },
   "outputs": [
    {
     "name": "stdout",
     "output_type": "stream",
     "text": [
      "              precision    recall  f1-score   support\n",
      "\n",
      " Parasitized       0.90      0.90      0.90      2771\n",
      "  Uninfected       0.90      0.89      0.90      2741\n",
      "\n",
      "    accuracy                           0.90      5512\n",
      "   macro avg       0.90      0.90      0.90      5512\n",
      "weighted avg       0.90      0.90      0.90      5512\n",
      "\n",
      "0.898766328011611\n"
     ]
    }
   ],
   "source": [
    "# Predictions using rfc_model\n",
    "rfc_predictions = model.predict(x_test)\n",
    "\n",
    "print(metrics.classification_report(rfc_predictions, y_test))\n",
    "print(rfc_model.score(x_test, y_test))"
   ]
  },
  {
   "cell_type": "code",
   "execution_count": 67,
   "metadata": {},
   "outputs": [
    {
     "name": "stdout",
     "output_type": "stream",
     "text": [
      "        Classifying_Model  Accuracy\n",
      "0           Decision Tree  0.842888\n",
      "1  Support Vector Machine  0.897859\n",
      "2     Logistic Regression  0.898222\n",
      "3               Ada Boost  0.899492\n",
      "4           Random Forest  0.898766\n"
     ]
    }
   ],
   "source": [
    "summary = {\"Classifying_Model\" : [\"Decision Tree\", \"Support Vector Machine\", \"Logistic Regression\", \"Ada Boost\", \"Random Forest\"], \n",
    "          \"Accuracy\" : [decTree_model.score(x_test, y_test), svm_model.score(x_test, y_test), logreg_model.score(x_test, y_test),\n",
    "           abc_model.score(x_test, y_test), rfc_model.score(x_test, y_test)]}\n",
    "result = pd.DataFrame(summary)\n",
    "print(result)b"
   ]
  },
  {
   "cell_type": "markdown",
   "metadata": {},
   "source": [
    "# Summarizing the results"
   ]
  },
  {
   "cell_type": "code",
   "execution_count": 68,
   "metadata": {},
   "outputs": [
    {
     "name": "stdout",
     "output_type": "stream",
     "text": [
      "Most Efficient Classifying algorithm is 3    Ada Boost\n",
      "Name: Classifying_Model, dtype: object with an accuracy of 0.8994920174165457\n"
     ]
    }
   ],
   "source": [
    "max_score = max(result.Accuracy)\n",
    "print(\"Most Efficient Classifying algorithm is\", result.Classifying_Model[result.Accuracy == max_score], \"with an accuracy of\",\n",
    "     max_score)"
   ]
  },
  {
   "cell_type": "code",
   "execution_count": null,
   "metadata": {},
   "outputs": [],
   "source": []
  }
 ],
 "metadata": {
  "kernelspec": {
   "display_name": "Python 3",
   "language": "python",
   "name": "python3"
  },
  "language_info": {
   "codemirror_mode": {
    "name": "ipython",
    "version": 3
   },
   "file_extension": ".py",
   "mimetype": "text/x-python",
   "name": "python",
   "nbconvert_exporter": "python",
   "pygments_lexer": "ipython3",
   "version": "3.7.1"
  }
 },
 "nbformat": 4,
 "nbformat_minor": 4
}
